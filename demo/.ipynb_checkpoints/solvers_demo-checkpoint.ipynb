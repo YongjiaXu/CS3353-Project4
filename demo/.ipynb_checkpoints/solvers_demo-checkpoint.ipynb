{
 "cells": [
  {
   "cell_type": "code",
   "execution_count": 1,
   "metadata": {},
   "outputs": [],
   "source": [
    "#!/usr/bin/env python3\n",
    "# -*- coding: utf-8 -*-\n",
    "\"\"\"\n",
    "Created on Sun May  3 01:57:15 2020\n",
    "\n",
    "@author: yongjiaxu\n",
    "\"\"\"\n",
    "import numpy as np\n",
    "\n",
    "def gaussElim(A):\n",
    "    n = len(A)\n",
    "    for i in range(0, n):\n",
    "        # search for maximum in this column\n",
    "        maxEl = abs(A[i,i])\n",
    "        maxRow = i\n",
    "        for k in range(i + 1, n):\n",
    "            if abs(A[k,i]) > maxEl:\n",
    "                maxEl = abs(A[k,i])\n",
    "                maxRow = k\n",
    "                \n",
    "        # check if there is any zero on the diagonal\n",
    "        if A[i,maxRow] == 0:\n",
    "            print('Singular')\n",
    "            return None\n",
    "\n",
    "        # swap maximum row with current row (column by column)\n",
    "        for k in range(i, n + 1):\n",
    "            tmp = A[maxRow,k]\n",
    "            A[maxRow,k] = A[i,k]\n",
    "            A[i,k] = tmp\n",
    "\n",
    "        # make all rows below this one 0 in current column\n",
    "        for k in range(i + 1, n):\n",
    "            c = -A[k,i] / A[i,i]\n",
    "            for j in range(i, n + 1):\n",
    "                if i == j:\n",
    "                    A[k,j] = 0\n",
    "                else:\n",
    "                    A[k,j] += c * A[i,j]\n",
    "    print(A)\n",
    "    # Solve equation Ax=b for an upper triangular matrix A\n",
    "    x = np.zeros(n)\n",
    "    for i in range(n - 1, -1, -1):\n",
    "        x[i] = A[i,n] / A[i,i]\n",
    "        for k in range(i - 1, -1, -1):\n",
    "            A[k,n] -= A[k,i] * x[i]\n",
    "            \n",
    "    return np.transpose(x)\n",
    "\n",
    "\n",
    "def gaussSeidel(a, x, b, tol = 1e-8):\n",
    "    x1 = x.copy()\n",
    "    for i in range(0, 100000):             \n",
    "        x = inner(a, x, b) \n",
    "        err = max(np.absolute(x-x1))\n",
    "        print('iterations: {} solution: {}'.format(i,x)) # just for demo\n",
    "        if(err < tol):\n",
    "            break;\n",
    "        x1 = x.copy()\n",
    "    return x;\n",
    "\n",
    "\n",
    "def inner(a, x ,b): \n",
    "    n = len(a)                    \n",
    "    for j in range(0, n):         \n",
    "        d = b[j]            \n",
    "        for i in range(0, n):      \n",
    "            if(j != i):\n",
    "                # here x is still holding values from the previous solution\n",
    "                d -= a[j,i] * x[i] \n",
    "        # updating the values of our solution         \n",
    "        x[j] = d / a[j,j]\n",
    "    return x"
   ]
  },
  {
   "cell_type": "code",
   "execution_count": 2,
   "metadata": {},
   "outputs": [
    {
     "name": "stdout",
     "output_type": "stream",
     "text": [
      "iterations: 0 solution: [1.  0.8 0.4]\n",
      "iterations: 1 solution: [0.6  0.96 0.48]\n",
      "iterations: 2 solution: [0.52  0.992 0.496]\n",
      "iterations: 3 solution: [0.504  0.9984 0.4992]\n",
      "iterations: 4 solution: [0.5008  0.99968 0.49984]\n",
      "iterations: 5 solution: [0.50016  0.999936 0.499968]\n",
      "iterations: 6 solution: [0.500032  0.9999872 0.4999936]\n",
      "iterations: 7 solution: [0.5000064  0.99999744 0.49999872]\n",
      "iterations: 8 solution: [0.50000128 0.99999949 0.49999974]\n",
      "iterations: 9 solution: [0.50000026 0.9999999  0.49999995]\n",
      "iterations: 10 solution: [0.50000005 0.99999998 0.49999999]\n",
      "iterations: 11 solution: [0.50000001 1.         0.5       ]\n",
      "iterations: 12 solution: [0.5 1.  0.5]\n"
     ]
    },
    {
     "data": {
      "text/plain": [
       "array([0.5, 1. , 0.5])"
      ]
     },
     "execution_count": 2,
     "metadata": {},
     "output_type": "execute_result"
    }
   ],
   "source": [
    "a = np.array([[4,1,2],[3,5,1],[1,1,3]])\n",
    "x = np.zeros(3)\n",
    "b = np.array([4,7,3])\n",
    "gaussSeidel(a,x,b)"
   ]
  },
  {
   "cell_type": "code",
   "execution_count": null,
   "metadata": {},
   "outputs": [],
   "source": []
  },
  {
   "cell_type": "code",
   "execution_count": null,
   "metadata": {},
   "outputs": [],
   "source": []
  }
 ],
 "metadata": {
  "kernelspec": {
   "display_name": "Python 3",
   "language": "python",
   "name": "python3"
  },
  "language_info": {
   "codemirror_mode": {
    "name": "ipython",
    "version": 3
   },
   "file_extension": ".py",
   "mimetype": "text/x-python",
   "name": "python",
   "nbconvert_exporter": "python",
   "pygments_lexer": "ipython3",
   "version": "3.7.4"
  }
 },
 "nbformat": 4,
 "nbformat_minor": 2
}
